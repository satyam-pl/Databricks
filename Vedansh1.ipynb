{
 "cells": [
  {
   "cell_type": "code",
   "execution_count": 0,
   "metadata": {
    "application/vnd.databricks.v1+cell": {
     "cellMetadata": {
      "byteLimit": 2048000,
      "rowLimit": 10000
     },
     "inputWidgets": {},
     "nuid": "005c99fb-f1c0-4ae4-9cb9-821d08343652",
     "showTitle": false,
     "title": ""
    }
   },
   "outputs": [
    {
     "output_type": "stream",
     "name": "stdout",
     "output_type": "stream",
     "text": [
      "Collecting xxhash\r\n  Downloading xxhash-3.4.1-cp39-cp39-manylinux_2_17_x86_64.manylinux2014_x86_64.whl (193 kB)\r\n\u001B[?25l\r\u001B[K     |█▊                              | 10 kB 14.1 MB/s eta 0:00:01\r\u001B[K     |███▍                            | 20 kB 16.4 MB/s eta 0:00:01\r\u001B[K     |█████                           | 30 kB 18.8 MB/s eta 0:00:01\r\u001B[K     |██████▊                         | 40 kB 6.5 MB/s eta 0:00:01\r\u001B[K     |████████▌                       | 51 kB 6.0 MB/s eta 0:00:01\r\u001B[K     |██████████▏                     | 61 kB 7.0 MB/s eta 0:00:01\r\u001B[K     |███████████▉                    | 71 kB 5.1 MB/s eta 0:00:01\r\u001B[K     |█████████████▌                  | 81 kB 5.7 MB/s eta 0:00:01\r\u001B[K     |███████████████▏                | 92 kB 6.3 MB/s eta 0:00:01\r\u001B[K     |█████████████████               | 102 kB 6.5 MB/s eta 0:00:01\r\u001B[K     |██████████████████▋             | 112 kB 6.5 MB/s eta 0:00:01\r\u001B[K     |████████████████████▎           | 122 kB 6.5 MB/s eta 0:00:01\r\u001B[K     |██████████████████████          | 133 kB 6.5 MB/s eta 0:00:01\r\u001B[K     |███████████████████████▊        | 143 kB 6.5 MB/s eta 0:00:01\r\u001B[K     |█████████████████████████▍      | 153 kB 6.5 MB/s eta 0:00:01\r\u001B[K     |███████████████████████████     | 163 kB 6.5 MB/s eta 0:00:01\r\u001B[K     |████████████████████████████▊   | 174 kB 6.5 MB/s eta 0:00:01\r\u001B[K     |██████████████████████████████▍ | 184 kB 6.5 MB/s eta 0:00:01\r\u001B[K     |████████████████████████████████| 193 kB 6.5 MB/s \r\n\u001B[?25hInstalling collected packages: xxhash\r\nSuccessfully installed xxhash-3.4.1\r\n\u001B[33mWARNING: You are using pip version 21.2.4; however, version 24.0 is available.\r\nYou should consider upgrading via the '/local_disk0/.ephemeral_nfs/envs/pythonEnv-4e805ea6-e9e3-4abb-9dbe-dc790ea9ce78/bin/python -m pip install --upgrade pip' command.\u001B[0m\r\n"
     ]
    }
   ],
   "source": [
    "!pip install xxhash"
   ]
  },
  {
   "cell_type": "code",
   "execution_count": 0,
   "metadata": {
    "application/vnd.databricks.v1+cell": {
     "cellMetadata": {
      "byteLimit": 2048000,
      "rowLimit": 10000
     },
     "inputWidgets": {},
     "nuid": "d85ea833-1ee2-4d6b-9406-ae619ef779ed",
     "showTitle": false,
     "title": ""
    }
   },
   "outputs": [
    {
     "output_type": "display_data",
     "data": {
      "text/html": [
       "<style scoped>\n",
       "  .table-result-container {\n",
       "    max-height: 300px;\n",
       "    overflow: auto;\n",
       "  }\n",
       "  table, th, td {\n",
       "    border: 1px solid black;\n",
       "    border-collapse: collapse;\n",
       "  }\n",
       "  th, td {\n",
       "    padding: 5px;\n",
       "  }\n",
       "  th {\n",
       "    text-align: left;\n",
       "  }\n",
       "</style><div class='table-result-container'><table class='table-result'><thead style='background-color: white'><tr><th>id</th><th>clientid</th><th>First_Name</th><th>Last_Name</th><th>Age</th><th>Occupation</th></tr></thead><tbody><tr><td>1</td><td>101</td><td>John</td><td>Doe</td><td>25</td><td>Engineer</td></tr><tr><td>2</td><td>102</td><td>Alice</td><td>Smith</td><td>30</td><td>Data Scientist</td></tr><tr><td>3</td><td>103</td><td>Bob</td><td>Johnson</td><td>28</td><td>Analyst</td></tr></tbody></table></div>"
      ]
     },
     "metadata": {
      "application/vnd.databricks.v1+output": {
       "addedWidgets": {},
       "aggData": [],
       "aggError": "",
       "aggOverflow": false,
       "aggSchema": [],
       "aggSeriesLimitReached": false,
       "aggType": "",
       "arguments": {},
       "columnCustomDisplayInfos": {},
       "data": [
        [
         1,
         101,
         "John",
         "Doe",
         25,
         "Engineer"
        ],
        [
         2,
         102,
         "Alice",
         "Smith",
         30,
         "Data Scientist"
        ],
        [
         3,
         103,
         "Bob",
         "Johnson",
         28,
         "Analyst"
        ]
       ],
       "datasetInfos": [],
       "dbfsResultPath": null,
       "isJsonSchema": true,
       "metadata": {},
       "overflow": false,
       "plotOptions": {
        "customPlotOptions": {},
        "displayType": "table",
        "pivotAggregation": null,
        "pivotColumns": null,
        "xColumns": null,
        "yColumns": null
       },
       "removedWidgets": [],
       "schema": [
        {
         "metadata": "{}",
         "name": "id",
         "type": "\"long\""
        },
        {
         "metadata": "{}",
         "name": "clientid",
         "type": "\"long\""
        },
        {
         "metadata": "{}",
         "name": "First_Name",
         "type": "\"string\""
        },
        {
         "metadata": "{}",
         "name": "Last_Name",
         "type": "\"string\""
        },
        {
         "metadata": "{}",
         "name": "Age",
         "type": "\"long\""
        },
        {
         "metadata": "{}",
         "name": "Occupation",
         "type": "\"string\""
        }
       ],
       "type": "table"
      }
     },
     "output_type": "display_data"
    },
    {
     "output_type": "stream",
     "name": "stdout",
     "output_type": "stream",
     "text": [
      "+---+---------+-----------+----------+----+--------------+\n|id2|clientid2|First_Name2|Last_Name2|Age2|   Occupation2|\n+---+---------+-----------+----------+----+--------------+\n|  1|      101|     satyam|     patel|  23|      Engineer|\n|  4|      104|      Alica|     Smith|  30|Data Scientist|\n|  5|      105|      jassi|   Johnson|  28|       Analyst|\n+---+---------+-----------+----------+----+--------------+\n\nUnexpected exception formatting exception. Falling back to standard exception\n"
     ]
    },
    {
     "output_type": "stream",
     "name": "stderr",
     "output_type": "stream",
     "text": [
      "Traceback (most recent call last):\n  File \"/databricks/python/lib/python3.9/site-packages/IPython/core/interactiveshell.py\", line 3378, in run_code\n    exec(code_obj, self.user_global_ns, self.user_ns)\n  File \"<command-979170347664277>\", line 36, in <module>\n    filtereddf = sourcedf.alias(\"a\").join(targetdf.alias(\"b\"), sourcedf[\"id\"] == targetdf[\"id2\"], \"left\").filter(\n  File \"/databricks/spark/python/pyspark/instrumentation_utils.py\", line 48, in wrapper\n    res = func(*args, **kwargs)\n  File \"/databricks/spark/python/pyspark/sql/dataframe.py\", line 2918, in __getitem__\n    jc = self._jdf.apply(item)\n  File \"/databricks/spark/python/lib/py4j-0.10.9.5-src.zip/py4j/java_gateway.py\", line 1321, in __call__\n    return_value = get_return_value(\n  File \"/databricks/spark/python/pyspark/errors/exceptions.py\", line 234, in deco\n    raise converted from None\npyspark.errors.exceptions.AnalysisException: [UNRESOLVED_COLUMN.WITH_SUGGESTION] A column or function parameter with name `id` cannot be resolved. Did you mean one of the following? [`id2`, `clientid2`, `First_Name2`, `Last_Name2`, `Age2`, `Occupation2`].\n\nDuring handling of the above exception, another exception occurred:\n\nTraceback (most recent call last):\n  File \"/databricks/python/lib/python3.9/site-packages/IPython/core/interactiveshell.py\", line 1997, in showtraceback\n    stb = self.InteractiveTB.structured_traceback(\n  File \"/databricks/python/lib/python3.9/site-packages/IPython/core/ultratb.py\", line 1112, in structured_traceback\n    return FormattedTB.structured_traceback(\n  File \"/databricks/python/lib/python3.9/site-packages/IPython/core/ultratb.py\", line 1006, in structured_traceback\n    return VerboseTB.structured_traceback(\n  File \"/databricks/python/lib/python3.9/site-packages/IPython/core/ultratb.py\", line 859, in structured_traceback\n    formatted_exception = self.format_exception_as_a_whole(etype, evalue, etb, number_of_lines_of_context,\n  File \"/databricks/python/lib/python3.9/site-packages/IPython/core/ultratb.py\", line 812, in format_exception_as_a_whole\n    frames.append(self.format_record(r))\n  File \"/databricks/python/lib/python3.9/site-packages/IPython/core/ultratb.py\", line 730, in format_record\n    result += ''.join(_format_traceback_lines(frame_info.lines, Colors, self.has_colors, lvals))\n  File \"/databricks/python/lib/python3.9/site-packages/stack_data/utils.py\", line 145, in cached_property_wrapper\n    value = obj.__dict__[self.func.__name__] = self.func(obj)\n  File \"/databricks/python/lib/python3.9/site-packages/stack_data/core.py\", line 698, in lines\n    pieces = self.included_pieces\n  File \"/databricks/python/lib/python3.9/site-packages/stack_data/utils.py\", line 145, in cached_property_wrapper\n    value = obj.__dict__[self.func.__name__] = self.func(obj)\n  File \"/databricks/python/lib/python3.9/site-packages/stack_data/core.py\", line 649, in included_pieces\n    pos = scope_pieces.index(self.executing_piece)\n  File \"/databricks/python/lib/python3.9/site-packages/stack_data/utils.py\", line 145, in cached_property_wrapper\n    value = obj.__dict__[self.func.__name__] = self.func(obj)\n  File \"/databricks/python/lib/python3.9/site-packages/stack_data/core.py\", line 628, in executing_piece\n    return only(\n  File \"/databricks/python/lib/python3.9/site-packages/executing/executing.py\", line 164, in only\n    raise NotOneValueFound('Expected one value, found 0')\nexecuting.executing.NotOneValueFound: Expected one value, found 0\n"
     ]
    },
    {
     "output_type": "display_data",
     "data": {
      "text/plain": [
       ""
      ]
     },
     "metadata": {
      "application/vnd.databricks.v1+output": {
       "arguments": {},
       "data": "",
       "errorSummary": "<span class='ansi-red-fg'>AnalysisException</span>: [UNRESOLVED_COLUMN.WITH_SUGGESTION] A column or function parameter with name `id` cannot be resolved. Did you mean one of the following? [`id2`, `clientid2`, `First_Name2`, `Last_Name2`, `Age2`, `Occupation2`].",
       "errorTraceType": "ansi",
       "metadata": {},
       "type": "ipynbError"
      }
     },
     "output_type": "display_data"
    }
   ],
   "source": [
    "\n",
    "from pyspark.sql import functions as F\n",
    "# Step 3: Define your data\n",
    "data = [(1, 101, \"John\", \"Doe\", 25, \"Engineer\"),\n",
    "        (2, 102, \"Alice\", \"Smith\", 30, \"Data Scientist\"),\n",
    "        (3, 103, \"Bob\", \"Johnson\", 28, \"Analyst\")]\n",
    "\n",
    "# Step 4: Define the schema for your DataFrame\n",
    "schema = [\"id\", \"clientid\", \"First_Name\", \"Last_Name\", \"Age\", \"Occupation\"]\n",
    "schema2 = [\"id2\", \"clientid2\", \"First_Name2\", \"Last_Name2\", \"Age2\", \"Occupation2\"]\n",
    "\n",
    "\n",
    "targetdf = spark.createDataFrame(data,schema)\n",
    "targetdf.display()\n",
    "\n",
    "\n",
    "\n",
    "# Step 3: Define your data\n",
    "data2 = [(1, 101, \"satyam\", \"patel\", 23, \"Engineer\"),\n",
    "        (4, 104, \"Alica\", \"Smith\", 30, \"Data Scientist\"),\n",
    "        (5, 105, \"jassi\", \"Johnson\", 28, \"Analyst\")]\n",
    "\n",
    "sourcedf = spark.createDataFrame(data2,schema2)\n",
    "sourcedf.show()\n",
    "\n",
    "\n",
    "# #left join \n",
    "# joineddf = sourcedf.alias(\"a\").join(targetdf.alias(\"b\"), sourcedf[\"ID\"] == targetdf[\"ID\"],\"left\")\n",
    "\n",
    "\n",
    "# filtereddf = joineddf.filter(xxhash64(joineddf.id,joineddf.clientid,joineddf.First_Name,joineddf.Last_Name,joineddf.Age,joineddf.Occupation) != xxhash64(joineddf.id2,joineddf.clientid2,joineddf.First_Name2,joineddf.Last_Name2,joineddf.Age2,joineddf.Occupation2))\n",
    "\n",
    "# filteredf.show()\n",
    "\n",
    "\n",
    "\n",
    "filtereddf = sourcedf.alias(\"a\").join(targetdf.alias(\"b\"), sourcedf[\"id\"] == targetdf[\"id2\"], \"left\").filter(\n",
    "    (F.col(\"a.clientid\") != F.col(\"b.clientid2\")) |\n",
    "    (F.col(\"a.First_Name\") != F.col(\"b.First_Name2\")) |\n",
    "    (F.col(\"a.Last_Name\") != F.col(\"b.Last_Name2\")) |\n",
    "    (F.col(\"a.Age\") != F.col(\"b.Age2\")) |\n",
    "    (F.col(\"a.Occupation\") != F.col(\"b.Occupation2\"))\n",
    ")\n",
    "\n",
    "# Step 3: Show the resulting DataFrame\n",
    "filtereddf.show()\n"
   ]
  },
  {
   "cell_type": "code",
   "execution_count": 0,
   "metadata": {
    "application/vnd.databricks.v1+cell": {
     "cellMetadata": {
      "byteLimit": 2048000,
      "rowLimit": 10000
     },
     "inputWidgets": {},
     "nuid": "7361f9ec-cfb3-4fa7-bdcc-c58e46d59396",
     "showTitle": false,
     "title": ""
    }
   },
   "outputs": [
    {
     "output_type": "display_data",
     "data": {
      "text/html": [
       "<style scoped>\n",
       "  .table-result-container {\n",
       "    max-height: 300px;\n",
       "    overflow: auto;\n",
       "  }\n",
       "  table, th, td {\n",
       "    border: 1px solid black;\n",
       "    border-collapse: collapse;\n",
       "  }\n",
       "  th, td {\n",
       "    padding: 5px;\n",
       "  }\n",
       "  th {\n",
       "    text-align: left;\n",
       "  }\n",
       "</style><div class='table-result-container'><table class='table-result'><thead style='background-color: white'><tr><th>id2</th><th>clientid2</th><th>First_Name2</th><th>Last_Name2</th><th>Age2</th><th>Occupation2</th><th>id</th><th>clientid</th><th>First_Name</th><th>Last_Name</th><th>Age</th><th>Occupation</th></tr></thead><tbody><tr><td>1</td><td>101</td><td>satyam</td><td>patel</td><td>23</td><td>Engineer</td><td>1</td><td>101</td><td>John</td><td>Doe</td><td>25</td><td>Engineer</td></tr><tr><td>4</td><td>104</td><td>Alica</td><td>Smith</td><td>30</td><td>Data Scientist</td><td>null</td><td>null</td><td>null</td><td>null</td><td>null</td><td>null</td></tr><tr><td>5</td><td>105</td><td>jassi</td><td>Johnson</td><td>28</td><td>Analyst</td><td>null</td><td>null</td><td>null</td><td>null</td><td>null</td><td>null</td></tr><tr><td>1</td><td>101</td><td>satyam</td><td>verma</td><td>22</td><td>engineer</td><td>1</td><td>101</td><td>John</td><td>Doe</td><td>25</td><td>Engineer</td></tr></tbody></table></div>"
      ]
     },
     "metadata": {
      "application/vnd.databricks.v1+output": {
       "addedWidgets": {},
       "aggData": [],
       "aggError": "",
       "aggOverflow": false,
       "aggSchema": [],
       "aggSeriesLimitReached": false,
       "aggType": "",
       "arguments": {},
       "columnCustomDisplayInfos": {},
       "data": [
        [
         1,
         101,
         "satyam",
         "patel",
         23,
         "Engineer",
         1,
         101,
         "John",
         "Doe",
         25,
         "Engineer"
        ],
        [
         4,
         104,
         "Alica",
         "Smith",
         30,
         "Data Scientist",
         null,
         null,
         null,
         null,
         null,
         null
        ],
        [
         5,
         105,
         "jassi",
         "Johnson",
         28,
         "Analyst",
         null,
         null,
         null,
         null,
         null,
         null
        ],
        [
         1,
         101,
         "satyam",
         "verma",
         22,
         "engineer",
         1,
         101,
         "John",
         "Doe",
         25,
         "Engineer"
        ]
       ],
       "datasetInfos": [],
       "dbfsResultPath": null,
       "isJsonSchema": true,
       "metadata": {},
       "overflow": false,
       "plotOptions": {
        "customPlotOptions": {},
        "displayType": "table",
        "pivotAggregation": null,
        "pivotColumns": null,
        "xColumns": null,
        "yColumns": null
       },
       "removedWidgets": [],
       "schema": [
        {
         "metadata": "{}",
         "name": "id2",
         "type": "\"long\""
        },
        {
         "metadata": "{}",
         "name": "clientid2",
         "type": "\"long\""
        },
        {
         "metadata": "{}",
         "name": "First_Name2",
         "type": "\"string\""
        },
        {
         "metadata": "{}",
         "name": "Last_Name2",
         "type": "\"string\""
        },
        {
         "metadata": "{}",
         "name": "Age2",
         "type": "\"long\""
        },
        {
         "metadata": "{}",
         "name": "Occupation2",
         "type": "\"string\""
        },
        {
         "metadata": "{}",
         "name": "id",
         "type": "\"long\""
        },
        {
         "metadata": "{}",
         "name": "clientid",
         "type": "\"long\""
        },
        {
         "metadata": "{}",
         "name": "First_Name",
         "type": "\"string\""
        },
        {
         "metadata": "{}",
         "name": "Last_Name",
         "type": "\"string\""
        },
        {
         "metadata": "{}",
         "name": "Age",
         "type": "\"long\""
        },
        {
         "metadata": "{}",
         "name": "Occupation",
         "type": "\"string\""
        }
       ],
       "type": "table"
      }
     },
     "output_type": "display_data"
    },
    {
     "output_type": "display_data",
     "data": {
      "text/html": [
       "<style scoped>\n",
       "  .table-result-container {\n",
       "    max-height: 300px;\n",
       "    overflow: auto;\n",
       "  }\n",
       "  table, th, td {\n",
       "    border: 1px solid black;\n",
       "    border-collapse: collapse;\n",
       "  }\n",
       "  th, td {\n",
       "    padding: 5px;\n",
       "  }\n",
       "  th {\n",
       "    text-align: left;\n",
       "  }\n",
       "</style><div class='table-result-container'><table class='table-result'><thead style='background-color: white'><tr><th>id2</th><th>clientid2</th><th>First_Name2</th><th>Last_Name2</th><th>Age2</th><th>Occupation2</th><th>id</th><th>clientid</th><th>First_Name</th><th>Last_Name</th><th>Age</th><th>Occupation</th><th>MERGEKEY</th></tr></thead><tbody><tr><td>1</td><td>101</td><td>satyam</td><td>patel</td><td>23</td><td>Engineer</td><td>1</td><td>101</td><td>John</td><td>Doe</td><td>25</td><td>Engineer</td><td>1101</td></tr><tr><td>4</td><td>104</td><td>Alica</td><td>Smith</td><td>30</td><td>Data Scientist</td><td>null</td><td>null</td><td>null</td><td>null</td><td>null</td><td>null</td><td>null</td></tr><tr><td>5</td><td>105</td><td>jassi</td><td>Johnson</td><td>28</td><td>Analyst</td><td>null</td><td>null</td><td>null</td><td>null</td><td>null</td><td>null</td><td>null</td></tr><tr><td>1</td><td>101</td><td>satyam</td><td>verma</td><td>22</td><td>engineer</td><td>1</td><td>101</td><td>John</td><td>Doe</td><td>25</td><td>Engineer</td><td>1101</td></tr></tbody></table></div>"
      ]
     },
     "metadata": {
      "application/vnd.databricks.v1+output": {
       "addedWidgets": {},
       "aggData": [],
       "aggError": "",
       "aggOverflow": false,
       "aggSchema": [],
       "aggSeriesLimitReached": false,
       "aggType": "",
       "arguments": {},
       "columnCustomDisplayInfos": {},
       "data": [
        [
         1,
         101,
         "satyam",
         "patel",
         23,
         "Engineer",
         1,
         101,
         "John",
         "Doe",
         25,
         "Engineer",
         "1101"
        ],
        [
         4,
         104,
         "Alica",
         "Smith",
         30,
         "Data Scientist",
         null,
         null,
         null,
         null,
         null,
         null,
         null
        ],
        [
         5,
         105,
         "jassi",
         "Johnson",
         28,
         "Analyst",
         null,
         null,
         null,
         null,
         null,
         null,
         null
        ],
        [
         1,
         101,
         "satyam",
         "verma",
         22,
         "engineer",
         1,
         101,
         "John",
         "Doe",
         25,
         "Engineer",
         "1101"
        ]
       ],
       "datasetInfos": [],
       "dbfsResultPath": null,
       "isJsonSchema": true,
       "metadata": {},
       "overflow": false,
       "plotOptions": {
        "customPlotOptions": {},
        "displayType": "table",
        "pivotAggregation": null,
        "pivotColumns": null,
        "xColumns": null,
        "yColumns": null
       },
       "removedWidgets": [],
       "schema": [
        {
         "metadata": "{}",
         "name": "id2",
         "type": "\"long\""
        },
        {
         "metadata": "{}",
         "name": "clientid2",
         "type": "\"long\""
        },
        {
         "metadata": "{}",
         "name": "First_Name2",
         "type": "\"string\""
        },
        {
         "metadata": "{}",
         "name": "Last_Name2",
         "type": "\"string\""
        },
        {
         "metadata": "{}",
         "name": "Age2",
         "type": "\"long\""
        },
        {
         "metadata": "{}",
         "name": "Occupation2",
         "type": "\"string\""
        },
        {
         "metadata": "{}",
         "name": "id",
         "type": "\"long\""
        },
        {
         "metadata": "{}",
         "name": "clientid",
         "type": "\"long\""
        },
        {
         "metadata": "{}",
         "name": "First_Name",
         "type": "\"string\""
        },
        {
         "metadata": "{}",
         "name": "Last_Name",
         "type": "\"string\""
        },
        {
         "metadata": "{}",
         "name": "Age",
         "type": "\"long\""
        },
        {
         "metadata": "{}",
         "name": "Occupation",
         "type": "\"string\""
        },
        {
         "metadata": "{}",
         "name": "MERGEKEY",
         "type": "\"string\""
        }
       ],
       "type": "table"
      }
     },
     "output_type": "display_data"
    },
    {
     "output_type": "display_data",
     "data": {
      "text/html": [
       "<style scoped>\n",
       "  .table-result-container {\n",
       "    max-height: 300px;\n",
       "    overflow: auto;\n",
       "  }\n",
       "  table, th, td {\n",
       "    border: 1px solid black;\n",
       "    border-collapse: collapse;\n",
       "  }\n",
       "  th, td {\n",
       "    padding: 5px;\n",
       "  }\n",
       "  th {\n",
       "    text-align: left;\n",
       "  }\n",
       "</style><div class='table-result-container'><table class='table-result'><thead style='background-color: white'><tr><th>id2</th><th>clientid2</th><th>First_Name2</th><th>Last_Name2</th><th>Age2</th><th>Occupation2</th><th>id</th><th>clientid</th><th>First_Name</th><th>Last_Name</th><th>Age</th><th>Occupation</th><th>MERGEKEY</th></tr></thead><tbody><tr><td>1</td><td>101</td><td>satyam</td><td>patel</td><td>23</td><td>Engineer</td><td>1</td><td>101</td><td>John</td><td>Doe</td><td>25</td><td>Engineer</td><td>null</td></tr><tr><td>1</td><td>101</td><td>satyam</td><td>verma</td><td>22</td><td>engineer</td><td>1</td><td>101</td><td>John</td><td>Doe</td><td>25</td><td>Engineer</td><td>null</td></tr></tbody></table></div>"
      ]
     },
     "metadata": {
      "application/vnd.databricks.v1+output": {
       "addedWidgets": {},
       "aggData": [],
       "aggError": "",
       "aggOverflow": false,
       "aggSchema": [],
       "aggSeriesLimitReached": false,
       "aggType": "",
       "arguments": {},
       "columnCustomDisplayInfos": {},
       "data": [
        [
         1,
         101,
         "satyam",
         "patel",
         23,
         "Engineer",
         1,
         101,
         "John",
         "Doe",
         25,
         "Engineer",
         null
        ],
        [
         1,
         101,
         "satyam",
         "verma",
         22,
         "engineer",
         1,
         101,
         "John",
         "Doe",
         25,
         "Engineer",
         null
        ]
       ],
       "datasetInfos": [],
       "dbfsResultPath": null,
       "isJsonSchema": true,
       "metadata": {},
       "overflow": false,
       "plotOptions": {
        "customPlotOptions": {},
        "displayType": "table",
        "pivotAggregation": null,
        "pivotColumns": null,
        "xColumns": null,
        "yColumns": null
       },
       "removedWidgets": [],
       "schema": [
        {
         "metadata": "{}",
         "name": "id2",
         "type": "\"long\""
        },
        {
         "metadata": "{}",
         "name": "clientid2",
         "type": "\"long\""
        },
        {
         "metadata": "{}",
         "name": "First_Name2",
         "type": "\"string\""
        },
        {
         "metadata": "{}",
         "name": "Last_Name2",
         "type": "\"string\""
        },
        {
         "metadata": "{}",
         "name": "Age2",
         "type": "\"long\""
        },
        {
         "metadata": "{}",
         "name": "Occupation2",
         "type": "\"string\""
        },
        {
         "metadata": "{}",
         "name": "id",
         "type": "\"long\""
        },
        {
         "metadata": "{}",
         "name": "clientid",
         "type": "\"long\""
        },
        {
         "metadata": "{}",
         "name": "First_Name",
         "type": "\"string\""
        },
        {
         "metadata": "{}",
         "name": "Last_Name",
         "type": "\"string\""
        },
        {
         "metadata": "{}",
         "name": "Age",
         "type": "\"long\""
        },
        {
         "metadata": "{}",
         "name": "Occupation",
         "type": "\"string\""
        },
        {
         "metadata": "{}",
         "name": "MERGEKEY",
         "type": "\"void\""
        }
       ],
       "type": "table"
      }
     },
     "output_type": "display_data"
    },
    {
     "output_type": "display_data",
     "data": {
      "text/html": [
       "<style scoped>\n",
       "  .table-result-container {\n",
       "    max-height: 300px;\n",
       "    overflow: auto;\n",
       "  }\n",
       "  table, th, td {\n",
       "    border: 1px solid black;\n",
       "    border-collapse: collapse;\n",
       "  }\n",
       "  th, td {\n",
       "    padding: 5px;\n",
       "  }\n",
       "  th {\n",
       "    text-align: left;\n",
       "  }\n",
       "</style><div class='table-result-container'><table class='table-result'><thead style='background-color: white'><tr><th>id2</th><th>clientid2</th><th>First_Name2</th><th>Last_Name2</th><th>Age2</th><th>Occupation2</th><th>id</th><th>clientid</th><th>First_Name</th><th>Last_Name</th><th>Age</th><th>Occupation</th><th>MERGEKEY</th></tr></thead><tbody><tr><td>1</td><td>101</td><td>satyam</td><td>patel</td><td>23</td><td>Engineer</td><td>1</td><td>101</td><td>John</td><td>Doe</td><td>25</td><td>Engineer</td><td>1101</td></tr><tr><td>4</td><td>104</td><td>Alica</td><td>Smith</td><td>30</td><td>Data Scientist</td><td>null</td><td>null</td><td>null</td><td>null</td><td>null</td><td>null</td><td>null</td></tr><tr><td>5</td><td>105</td><td>jassi</td><td>Johnson</td><td>28</td><td>Analyst</td><td>null</td><td>null</td><td>null</td><td>null</td><td>null</td><td>null</td><td>null</td></tr><tr><td>1</td><td>101</td><td>satyam</td><td>verma</td><td>22</td><td>engineer</td><td>1</td><td>101</td><td>John</td><td>Doe</td><td>25</td><td>Engineer</td><td>1101</td></tr><tr><td>1</td><td>101</td><td>satyam</td><td>patel</td><td>23</td><td>Engineer</td><td>1</td><td>101</td><td>John</td><td>Doe</td><td>25</td><td>Engineer</td><td>null</td></tr><tr><td>1</td><td>101</td><td>satyam</td><td>verma</td><td>22</td><td>engineer</td><td>1</td><td>101</td><td>John</td><td>Doe</td><td>25</td><td>Engineer</td><td>null</td></tr></tbody></table></div>"
      ]
     },
     "metadata": {
      "application/vnd.databricks.v1+output": {
       "addedWidgets": {},
       "aggData": [],
       "aggError": "",
       "aggOverflow": false,
       "aggSchema": [],
       "aggSeriesLimitReached": false,
       "aggType": "",
       "arguments": {},
       "columnCustomDisplayInfos": {},
       "data": [
        [
         1,
         101,
         "satyam",
         "patel",
         23,
         "Engineer",
         1,
         101,
         "John",
         "Doe",
         25,
         "Engineer",
         "1101"
        ],
        [
         4,
         104,
         "Alica",
         "Smith",
         30,
         "Data Scientist",
         null,
         null,
         null,
         null,
         null,
         null,
         null
        ],
        [
         5,
         105,
         "jassi",
         "Johnson",
         28,
         "Analyst",
         null,
         null,
         null,
         null,
         null,
         null,
         null
        ],
        [
         1,
         101,
         "satyam",
         "verma",
         22,
         "engineer",
         1,
         101,
         "John",
         "Doe",
         25,
         "Engineer",
         "1101"
        ],
        [
         1,
         101,
         "satyam",
         "patel",
         23,
         "Engineer",
         1,
         101,
         "John",
         "Doe",
         25,
         "Engineer",
         null
        ],
        [
         1,
         101,
         "satyam",
         "verma",
         22,
         "engineer",
         1,
         101,
         "John",
         "Doe",
         25,
         "Engineer",
         null
        ]
       ],
       "datasetInfos": [],
       "dbfsResultPath": null,
       "isJsonSchema": true,
       "metadata": {},
       "overflow": false,
       "plotOptions": {
        "customPlotOptions": {},
        "displayType": "table",
        "pivotAggregation": null,
        "pivotColumns": null,
        "xColumns": null,
        "yColumns": null
       },
       "removedWidgets": [],
       "schema": [
        {
         "metadata": "{}",
         "name": "id2",
         "type": "\"long\""
        },
        {
         "metadata": "{}",
         "name": "clientid2",
         "type": "\"long\""
        },
        {
         "metadata": "{}",
         "name": "First_Name2",
         "type": "\"string\""
        },
        {
         "metadata": "{}",
         "name": "Last_Name2",
         "type": "\"string\""
        },
        {
         "metadata": "{}",
         "name": "Age2",
         "type": "\"long\""
        },
        {
         "metadata": "{}",
         "name": "Occupation2",
         "type": "\"string\""
        },
        {
         "metadata": "{}",
         "name": "id",
         "type": "\"long\""
        },
        {
         "metadata": "{}",
         "name": "clientid",
         "type": "\"long\""
        },
        {
         "metadata": "{}",
         "name": "First_Name",
         "type": "\"string\""
        },
        {
         "metadata": "{}",
         "name": "Last_Name",
         "type": "\"string\""
        },
        {
         "metadata": "{}",
         "name": "Age",
         "type": "\"long\""
        },
        {
         "metadata": "{}",
         "name": "Occupation",
         "type": "\"string\""
        },
        {
         "metadata": "{}",
         "name": "MERGEKEY",
         "type": "\"string\""
        }
       ],
       "type": "table"
      }
     },
     "output_type": "display_data"
    }
   ],
   "source": [
    "from pyspark.sql import SparkSession\n",
    "from pyspark.sql import functions as F\n",
    "from pyspark.sql.functions import col\n",
    "from pyspark.sql.functions import concat, lit\n",
    "\n",
    "# Step 1: Create or get a Spark session\n",
    "spark = SparkSession.builder.appName(\"JoinAndFilterExample\").getOrCreate()\n",
    "\n",
    "# Step 2: Define your data\n",
    "data = [(1, 101, \"John\", \"Doe\", 25, \"Engineer\",\"Y\",\"2022-05-15\",\"9999-12-31\"),\n",
    "        (2, 102, \"Alice\", \"Smith\", 30, \"Data Scientist\",\"Y\",\"2022-06-15\",\"9999-12-31\"),\n",
    "        (3, 103, \"Bob\", \"Johnson\", 28, \"Analyst\",\"Y\",\"2022-05-15\",\"9999-12-31\")]\n",
    "\n",
    "# Step 3: Define the schema for your DataFrame\n",
    "schema = [\"id\", \"clientid\", \"First_Name\", \"Last_Name\", \"Age\", \"Occupation\",\"active_status\",\"start_date\",\"end_date\"]\n",
    "schema2 = [\"id2\", \"clientid2\", \"First_Name2\", \"Last_Name2\", \"Age2\", \"Occupation2\"]\n",
    "\n",
    "targetdf = spark.createDataFrame(data, schema)\n",
    "#targetdf.show()\n",
    "\n",
    "\n",
    "\n",
    "#targetdf.write.format(\"delta\").mode(\"append\").save(\"/tmp/delta/target\")\n",
    "targetdf.write.format(\"delta\").mode(\"overwrite\").saveAsTable(\"Target2\")\n",
    "\n",
    "# Step 4: Define your data\n",
    "data2 = [(1, 101, \"satyam\", \"patel\", 23, \"Engineer\"),\n",
    "         (4, 104, \"Alica\", \"Smith\", 30, \"Data Scientist\"),\n",
    "         (5, 105, \"jassi\", \"Johnson\", 28, \"Analyst\"),\n",
    "         (1,101,\"satyam\",\"verma\",22,\"engineer\")]\n",
    "\n",
    "sourcedf = spark.createDataFrame(data2, schema2)\n",
    "#sourcedf.show()\n",
    "# ... (Previous code)\n",
    "\n",
    "filtereddf = sourcedf.alias(\"a\").join(targetdf.alias(\"b\"), col(\"a.id2\") == col(\"b.id\"), \"left\")\n",
    "\n",
    "filtereddf = filtereddf.select(sourcedf[\"*\"],targetdf.id,targetdf.clientid,targetdf.First_Name,targetdf.Last_Name,targetdf.Age,targetdf.Occupation)\n",
    "\n",
    "\n",
    "filteredDf = filtereddf.filter(xxhash64(filtereddf.))\n",
    "\n",
    "filtereddf.display()\n",
    "\n",
    "\n",
    "mergeDF = filtereddf.withColumn(\"MERGEKEY\",concat(filtereddf.id,filtereddf.clientid))\n",
    "mergeDF.display()\n",
    "\n",
    "dummydf = mergeDF.filter(col(\"MERGEKEY\").isNotNull()).withColumn(\"MERGEKEY\", lit(None))\n",
    "dummydf.display()\n",
    "\n",
    "\n",
    "\n",
    "\n",
    "\n",
    "scddf = mergeDF.union(dummydf)\n",
    "scddf.display()\n",
    "\n",
    "\n",
    "\n",
    "\n",
    "\n",
    "\n"
   ]
  },
  {
   "cell_type": "code",
   "execution_count": 0,
   "metadata": {
    "application/vnd.databricks.v1+cell": {
     "cellMetadata": {
      "byteLimit": 2048000,
      "rowLimit": 10000
     },
     "inputWidgets": {},
     "nuid": "39d16d55-1f41-4be2-a586-105368532d61",
     "showTitle": false,
     "title": ""
    }
   },
   "outputs": [],
   "source": [
    "\n",
    "from delta.tables import DeltaTable\n",
    "from pyspark.sql.functions import expr\n",
    "\n",
    "#deltaTable = DeltaTable.forPath(spark, \"/tmp/delta/target\")\n",
    "deltaTable = DeltaTable.forName(spark,\"Target2\")\n",
    "dfUpdates = scddf\n",
    "deltaTable.alias('target') \\\n",
    "  .merge(\n",
    "       dfUpdates.alias('source'),\n",
    "       condition= \"concat(target.id,target.clientid) = source.MERGEKEY and target.active_status = 'Y'\"\n",
    "  ) \\\n",
    "  .whenMatchedUpdate(set =\n",
    "    {\n",
    "      \"active_status\": \"'N'\",\n",
    "      \"end_date\": \"current_date\"\n",
    "    }\n",
    "  ) \\\n",
    "  .whenNotMatchedInsert(values =\n",
    "    {\n",
    "   \"id\":\"source.id2\",\n",
    "   \"clientid\":\"source.clientid2\",\n",
    "   \"First_Name\":\"source.First_Name2\",\n",
    "   \"Last_Name\":\"source.Last_Name2\",\n",
    "   \"Age\":\"source.Age2\",\n",
    "   \"Occupation\":\"source.Occupation2\",\n",
    "   \"active_status\":\"'Y'\",\n",
    "   \"start_date\":\"current_date\",\n",
    "   \"end_date\":\"9999-12-31\"\n",
    "    }\n",
    "  ) \\\n",
    "  .execute()\n",
    "\n"
   ]
  },
  {
   "cell_type": "code",
   "execution_count": 0,
   "metadata": {
    "application/vnd.databricks.v1+cell": {
     "cellMetadata": {
      "byteLimit": 2048000,
      "rowLimit": 10000
     },
     "inputWidgets": {},
     "nuid": "8b514173-5622-47ee-9ad7-d8f4fa40e278",
     "showTitle": false,
     "title": ""
    }
   },
   "outputs": [
    {
     "output_type": "stream",
     "name": "stdout",
     "output_type": "stream",
     "text": [
      "+---+--------+----------+---------+---+--------------+-------------+----------+----------+\n| id|clientid|First_Name|Last_Name|Age|    Occupation|active_status|start_date|  end_date|\n+---+--------+----------+---------+---+--------------+-------------+----------+----------+\n|  2|     102|     Alice|    Smith| 30|Data Scientist|            Y|2022-06-15|9999-12-31|\n|  3|     103|       Bob|  Johnson| 28|       Analyst|            Y|2022-05-15|9999-12-31|\n|  1|     101|      John|      Doe| 25|      Engineer|            Y|2022-05-15|9999-12-31|\n+---+--------+----------+---------+---+--------------+-------------+----------+----------+\n\n"
     ]
    }
   ],
   "source": [
    "#spark.sql(\"select * from Target2\")\n",
    "\n",
    "delta_table_name = \"Target2\"\n",
    "\n",
    "# Read the Delta table into a DataFrame\n",
    "delta_df = spark.read.format(\"delta\").table(delta_table_name)\n",
    "\n",
    "# Show the data of the Delta table\n",
    "delta_df.show()"
   ]
  }
 ],
 "metadata": {
  "application/vnd.databricks.v1+notebook": {
   "dashboards": [],
   "language": "python",
   "notebookMetadata": {
    "pythonIndentUnit": 4
   },
   "notebookName": "Vedansh1",
   "widgets": {}
  }
 },
 "nbformat": 4,
 "nbformat_minor": 0
}
